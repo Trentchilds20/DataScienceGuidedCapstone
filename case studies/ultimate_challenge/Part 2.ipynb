{
 "cells": [
  {
   "cell_type": "markdown",
   "id": "5f39601b",
   "metadata": {},
   "source": [
    "1. The key measure of success would be if the number of people crossing the toll bridge increases because that would mean that more people would be crossing into the other city. That would be chosen because it literally means more peopele are driving from one city to another."
   ]
  },
  {
   "cell_type": "markdown",
   "id": "cc1deaec",
   "metadata": {},
   "source": [
    "2. \n",
    "a. You could collect data of the current number of people crossing the bridge in each direction. You then would implement the toll reimbursement policy, then collect data again and compare the difference in counts and frequency. \n",
    "\n",
    "b. To see if there is a significant difference between the two datasets, you could perform a two sample hypothesis test such as a T-test and get the p-value to see if the null hypothesis is false or not. \n",
    "\n",
    "c. If the p-value from the statistical test is below a pre-defined significance level (e.g., 0.05), then you can conclude that there is a significant difference in the proportions of driver partners operating in both cities before and after the toll reimbursement policy. This would indicate that the policy has indeed encouraged more driver partners to serve both cities.\n",
    "Caveats would be that maybe the seasons are changing which might affect the traffic, or that something happened in one of the cities such as a power failure and that caused more people to go to the other city. "
   ]
  }
 ],
 "metadata": {
  "kernelspec": {
   "display_name": "Python 3 (ipykernel)",
   "language": "python",
   "name": "python3"
  },
  "language_info": {
   "codemirror_mode": {
    "name": "ipython",
    "version": 3
   },
   "file_extension": ".py",
   "mimetype": "text/x-python",
   "name": "python",
   "nbconvert_exporter": "python",
   "pygments_lexer": "ipython3",
   "version": "3.10.9"
  }
 },
 "nbformat": 4,
 "nbformat_minor": 5
}
